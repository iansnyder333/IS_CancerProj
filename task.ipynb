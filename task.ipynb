{
 "cells": [
  {
   "attachments": {},
   "cell_type": "markdown",
   "metadata": {},
   "source": [
    "# Coding assessment for Clinical Computational Cancer Genomics\n",
    "## Ian Snyder \n",
    "\n",
    "### Motivation: Discover any mutations that are associated with treatment response?"
   ]
  },
  {
   "attachments": {},
   "cell_type": "markdown",
   "metadata": {},
   "source": [
    "Step 1: import neccessary modules"
   ]
  },
  {
   "cell_type": "code",
   "execution_count": 1,
   "metadata": {},
   "outputs": [
    {
     "ename": "ModuleNotFoundError",
     "evalue": "No module named 'getdata'",
     "output_type": "error",
     "traceback": [
      "\u001b[0;31m---------------------------------------------------------------------------\u001b[0m",
      "\u001b[0;31mModuleNotFoundError\u001b[0m                       Traceback (most recent call last)",
      "\u001b[0;32m/var/folders/jv/1dlg94h95cn8p83hry6ngvyh0000gn/T/ipykernel_13181/1797093547.py\u001b[0m in \u001b[0;36m<module>\u001b[0;34m\u001b[0m\n\u001b[1;32m      3\u001b[0m \u001b[0;32mimport\u001b[0m \u001b[0mmatplotlib\u001b[0m\u001b[0;34m.\u001b[0m\u001b[0mpyplot\u001b[0m \u001b[0;32mas\u001b[0m \u001b[0mplt\u001b[0m\u001b[0;34m\u001b[0m\u001b[0;34m\u001b[0m\u001b[0m\n\u001b[1;32m      4\u001b[0m \u001b[0;34m\u001b[0m\u001b[0m\n\u001b[0;32m----> 5\u001b[0;31m \u001b[0;32mfrom\u001b[0m \u001b[0mgetdata\u001b[0m \u001b[0;32mimport\u001b[0m \u001b[0mGetData\u001b[0m\u001b[0;34m\u001b[0m\u001b[0;34m\u001b[0m\u001b[0m\n\u001b[0m",
      "\u001b[0;31mModuleNotFoundError\u001b[0m: No module named 'getdata'"
     ]
    }
   ],
   "source": [
    "import pandas as pd\n",
    "import numpy as np\n",
    "import matplotlib.pyplot as plt\n",
    "\n",
    "from getdata import GetData\n"
   ]
  },
  {
   "attachments": {},
   "cell_type": "markdown",
   "metadata": {},
   "source": [
    "Load Patient Data, patiendDf is seperated by patient, aggDf is concatenated patient data."
   ]
  },
  {
   "cell_type": "code",
   "execution_count": null,
   "metadata": {},
   "outputs": [],
   "source": [
    "data = GetData('data/mafs')\n",
    "patientDf = data.patientDf\n",
    "aggDf = data.aggDf\n",
    "\n"
   ]
  },
  {
   "attachments": {},
   "cell_type": "markdown",
   "metadata": {},
   "source": [
    "Subset for mutations that are not of the Variant Classification “Silent”."
   ]
  },
  {
   "cell_type": "code",
   "execution_count": null,
   "metadata": {},
   "outputs": [
    {
     "data": {
      "text/html": [
       "<div>\n",
       "<style scoped>\n",
       "    .dataframe tbody tr th:only-of-type {\n",
       "        vertical-align: middle;\n",
       "    }\n",
       "\n",
       "    .dataframe tbody tr th {\n",
       "        vertical-align: top;\n",
       "    }\n",
       "\n",
       "    .dataframe thead th {\n",
       "        text-align: right;\n",
       "    }\n",
       "</style>\n",
       "<table border=\"1\" class=\"dataframe\">\n",
       "  <thead>\n",
       "    <tr style=\"text-align: right;\">\n",
       "      <th></th>\n",
       "      <th>Hugo_Symbol</th>\n",
       "      <th>Chromosome</th>\n",
       "      <th>Start_position</th>\n",
       "      <th>End_position</th>\n",
       "      <th>Variant_Classification</th>\n",
       "      <th>Variant_Type</th>\n",
       "      <th>Reference_Allele</th>\n",
       "      <th>Tumor_Seq_Allele1</th>\n",
       "      <th>Tumor_Seq_Allele2</th>\n",
       "      <th>Tumor_Sample_Barcode</th>\n",
       "      <th>Matched_Norm_Sample_Barcode</th>\n",
       "      <th>Protein_Change</th>\n",
       "      <th>t_alt_count</th>\n",
       "      <th>t_ref_count</th>\n",
       "    </tr>\n",
       "  </thead>\n",
       "  <tbody>\n",
       "    <tr>\n",
       "      <th>0</th>\n",
       "      <td>CEP350</td>\n",
       "      <td>1</td>\n",
       "      <td>180063656</td>\n",
       "      <td>180063656</td>\n",
       "      <td>Missense_Mutation</td>\n",
       "      <td>SNP</td>\n",
       "      <td>G</td>\n",
       "      <td>G</td>\n",
       "      <td>A</td>\n",
       "      <td>Patient-36-Tumor</td>\n",
       "      <td>Patient-36-Normal</td>\n",
       "      <td>p.E2806K</td>\n",
       "      <td>12</td>\n",
       "      <td>28</td>\n",
       "    </tr>\n",
       "    <tr>\n",
       "      <th>1</th>\n",
       "      <td>CCDC88C</td>\n",
       "      <td>14</td>\n",
       "      <td>91739009</td>\n",
       "      <td>91739009</td>\n",
       "      <td>Missense_Mutation</td>\n",
       "      <td>SNP</td>\n",
       "      <td>C</td>\n",
       "      <td>C</td>\n",
       "      <td>T</td>\n",
       "      <td>Patient-36-Tumor</td>\n",
       "      <td>Patient-36-Normal</td>\n",
       "      <td>p.G2016E</td>\n",
       "      <td>36</td>\n",
       "      <td>57</td>\n",
       "    </tr>\n",
       "    <tr>\n",
       "      <th>2</th>\n",
       "      <td>KDM6B</td>\n",
       "      <td>17</td>\n",
       "      <td>7749509</td>\n",
       "      <td>7749509</td>\n",
       "      <td>Missense_Mutation</td>\n",
       "      <td>SNP</td>\n",
       "      <td>A</td>\n",
       "      <td>A</td>\n",
       "      <td>T</td>\n",
       "      <td>Patient-36-Tumor</td>\n",
       "      <td>Patient-36-Normal</td>\n",
       "      <td>p.Y117F</td>\n",
       "      <td>4</td>\n",
       "      <td>25</td>\n",
       "    </tr>\n",
       "    <tr>\n",
       "      <th>3</th>\n",
       "      <td>PGAP1</td>\n",
       "      <td>2</td>\n",
       "      <td>197781268</td>\n",
       "      <td>197781268</td>\n",
       "      <td>Missense_Mutation</td>\n",
       "      <td>SNP</td>\n",
       "      <td>G</td>\n",
       "      <td>G</td>\n",
       "      <td>C</td>\n",
       "      <td>Patient-36-Tumor</td>\n",
       "      <td>Patient-36-Normal</td>\n",
       "      <td>p.F117L</td>\n",
       "      <td>11</td>\n",
       "      <td>25</td>\n",
       "    </tr>\n",
       "    <tr>\n",
       "      <th>4</th>\n",
       "      <td>PARD6B</td>\n",
       "      <td>20</td>\n",
       "      <td>49366765</td>\n",
       "      <td>49366765</td>\n",
       "      <td>Missense_Mutation</td>\n",
       "      <td>SNP</td>\n",
       "      <td>G</td>\n",
       "      <td>G</td>\n",
       "      <td>C</td>\n",
       "      <td>Patient-36-Tumor</td>\n",
       "      <td>Patient-36-Normal</td>\n",
       "      <td>p.E287Q</td>\n",
       "      <td>21</td>\n",
       "      <td>88</td>\n",
       "    </tr>\n",
       "  </tbody>\n",
       "</table>\n",
       "</div>"
      ],
      "text/plain": [
       "  Hugo_Symbol Chromosome  Start_position  End_position Variant_Classification  \\\n",
       "0      CEP350          1       180063656     180063656      Missense_Mutation   \n",
       "1     CCDC88C         14        91739009      91739009      Missense_Mutation   \n",
       "2       KDM6B         17         7749509       7749509      Missense_Mutation   \n",
       "3       PGAP1          2       197781268     197781268      Missense_Mutation   \n",
       "4      PARD6B         20        49366765      49366765      Missense_Mutation   \n",
       "\n",
       "  Variant_Type Reference_Allele Tumor_Seq_Allele1 Tumor_Seq_Allele2  \\\n",
       "0          SNP                G                 G                 A   \n",
       "1          SNP                C                 C                 T   \n",
       "2          SNP                A                 A                 T   \n",
       "3          SNP                G                 G                 C   \n",
       "4          SNP                G                 G                 C   \n",
       "\n",
       "  Tumor_Sample_Barcode Matched_Norm_Sample_Barcode Protein_Change  \\\n",
       "0     Patient-36-Tumor           Patient-36-Normal       p.E2806K   \n",
       "1     Patient-36-Tumor           Patient-36-Normal       p.G2016E   \n",
       "2     Patient-36-Tumor           Patient-36-Normal        p.Y117F   \n",
       "3     Patient-36-Tumor           Patient-36-Normal        p.F117L   \n",
       "4     Patient-36-Tumor           Patient-36-Normal        p.E287Q   \n",
       "\n",
       "   t_alt_count  t_ref_count  \n",
       "0           12           28  \n",
       "1           36           57  \n",
       "2            4           25  \n",
       "3           11           25  \n",
       "4           21           88  "
      ]
     },
     "execution_count": 14,
     "metadata": {},
     "output_type": "execute_result"
    }
   ],
   "source": [
    "#subset aggdata\n",
    "condition = aggDf['Variant_Classification'] != 'Silent'\n",
    "aggSubset = aggDf[condition]\n",
    "#Do the same for each patient\n",
    "subsetDf = {}\n",
    "for patient, patientDf in patientDf.items():\n",
    "    condition = patientDf['Variant_Classification'] != 'Silent'\n",
    "    df_subset = patientDf[condition]\n",
    "    subsetDf[patient] = df_subset \n",
    "#Rassign global var to new subset\n",
    "patientDf=subsetDf\n",
    "aggDf = aggSubset\n",
    "\n",
    "aggDf.head()"
   ]
  },
  {
   "attachments": {},
   "cell_type": "markdown",
   "metadata": {},
   "source": [
    "Find the 15 most common mutations. Tie handling was not specified so both are provided, intuitivley it makes sense to include ties."
   ]
  },
  {
   "cell_type": "code",
   "execution_count": null,
   "metadata": {},
   "outputs": [
    {
     "name": "stdout",
     "output_type": "stream",
     "text": [
      "      Hugo_Symbol Protein_Change  Count  Rank\n",
      "2869        ERBB4       p.S1289A     14   1.0\n",
      "2858        ERBB3        p.H228Q      5   2.0\n",
      "6897       PIK3CA        p.E545K      5   2.0\n",
      "2868        ERBB4        p.Q707E      5   2.0\n",
      "5205       MAP2K1         p.F53L      4   5.0\n",
      "7961         RXRA        p.S330F      4   5.0\n",
      "9782        TYRO3        p.L819M      4   5.0\n",
      "2860        ERBB3         p.M91I      4   5.0\n",
      "2865        ERBB4        p.E317K      4   5.0\n",
      "3038       FAM47C        p.Q225E      4   5.0\n",
      "4835    KRTAP4-11        p.L161V      4   5.0\n",
      "9479         TP53        p.R248Q      4   5.0\n",
      "10828       ZNF91        p.H305R      3  13.0\n",
      "10724      ZNF708        p.L251P      3  13.0\n",
      "10789      ZNF814        p.D404E      3  13.0\n",
      "10841       ZNF93        p.R533G      3  13.0\n",
      "3037       FAM47C        p.N648D      3  13.0\n",
      "7019       PLXNA2       p.E1480K      3  13.0\n",
      "9784        TYRO3        p.R824G      3  13.0\n",
      "10704      ZNF681        p.S505P      3  13.0\n",
      "10821      ZNF878        p.R200S      3  13.0\n",
      "5607        MSLNL        p.P154L      3  13.0\n",
      "3968     HIST1H3F        p.R132C      3  13.0\n",
      "10731      ZNF716        p.K294R      3  13.0\n",
      "4836     KRTAP4-4         p.H62R      3  13.0\n",
      "10733      ZNF716        p.T297K      3  13.0\n",
      "7377         PTH2         p.L22V      3  13.0\n",
      "481      ANKRD30A        p.P319A      3  13.0\n",
      "10807      ZNF844        p.R447P      3  13.0\n",
      "5918        NBPF3        p.F368C      3  13.0\n",
      "3202        FGFR3        p.S249C      3  13.0\n",
      "      Hugo_Symbol Protein_Change  Count  Rank\n",
      "2869        ERBB4       p.S1289A     14   1.0\n",
      "2858        ERBB3        p.H228Q      5   2.0\n",
      "6897       PIK3CA        p.E545K      5   2.0\n",
      "2868        ERBB4        p.Q707E      5   2.0\n",
      "5205       MAP2K1         p.F53L      4   5.0\n",
      "7961         RXRA        p.S330F      4   5.0\n",
      "9782        TYRO3        p.L819M      4   5.0\n",
      "2860        ERBB3         p.M91I      4   5.0\n",
      "2865        ERBB4        p.E317K      4   5.0\n",
      "3038       FAM47C        p.Q225E      4   5.0\n",
      "4835    KRTAP4-11        p.L161V      4   5.0\n",
      "9479         TP53        p.R248Q      4   5.0\n",
      "10828       ZNF91        p.H305R      3  13.0\n",
      "10724      ZNF708        p.L251P      3  13.0\n",
      "10789      ZNF814        p.D404E      3  13.0\n"
     ]
    }
   ],
   "source": [
    "#Relevant Data\n",
    "aggDf_small = aggDf[['Hugo_Symbol', 'Protein_Change']].copy()\n",
    "#Count Mutations\n",
    "mutation_counts = aggDf_small.groupby(['Hugo_Symbol', 'Protein_Change']\n",
    "                     ).size().reset_index(name='Count')\n",
    "\n",
    "mutation_counts.sort_values(by=['Count'], ascending=False, inplace=True)\n",
    "#Rank based on count\n",
    "mutation_counts['Rank'] = mutation_counts['Count'].rank(\n",
    "    method='min', ascending=False)\n",
    "\n",
    "#Get top 15 ranks\n",
    "top_mutations = mutation_counts[mutation_counts['Rank'] <= 15]\n",
    "\n",
    "#With ties \n",
    "print(top_mutations)\n",
    "\n",
    "#Without handling ties\n",
    "print(mutation_counts.head(15))"
   ]
  },
  {
   "attachments": {},
   "cell_type": "markdown",
   "metadata": {},
   "source": [
    "Perform a statistical test to explore if any mutated genes are enriched in patients who\n",
    "either responded or not."
   ]
  },
  {
   "cell_type": "code",
   "execution_count": null,
   "metadata": {},
   "outputs": [
    {
     "name": "stdout",
     "output_type": "stream",
     "text": [
      "25\n",
      "25\n",
      "Chi-Square statistic: 368.85665453419114\n",
      "P-value: 1.0\n",
      "0.7454394693200663\n",
      "     Hugo_Symbol  Count_responders  Count_non_responders  differences\n",
      "516        KMT2C                19                     1           18\n",
      "948         SPEN                 6                    16           10\n",
      "1065       TYRO3                 1                    10            9\n",
      "231         CUBN                 8                     1            7\n",
      "276          DST                 9                     3            6\n",
      "467         IRS4                 1                     7            6\n",
      "978        SYNE1                 9                     3            6\n",
      "611       MYCBP2                 7                     1            6\n",
      "263        DNAH8                 6                     1            5\n",
      "530        LAMA3                 6                     1            5\n",
      "341        FBLN1                 1                     6            5\n",
      "635       NBPF10                 7                     2            5\n",
      "517        KMT2D                11                     6            5\n",
      "1109       XIRP2                 7                     2            5\n",
      "1009          TG                 6                     1            5\n",
      "105        BIRC6                 7                     2            5\n",
      "983         SZT2                 5                     1            4\n",
      "567        MAST4                 5                     1            4\n",
      "496        KDM6A                 5                     1            4\n",
      "843       RNF213                 5                     1            4\n",
      "1035        TP53                13                    17            4\n",
      "957        SRCAP                 5                     1            4\n",
      "106          BLM                 1                     5            4\n",
      "771         PRG4                 5                     1            4\n",
      "204        CNTRL                 5                     1            4\n",
      "1201       ZNF93                 1                     5            4\n",
      "787         PSD3                 1                     5            4\n",
      "817          RB1                 8                     4            4\n",
      "1172      ZNF626                 7                     3            4\n",
      "339         FAT4                 7                     3            4\n",
      "254        DIDO1                 5                     1            4\n",
      "264        DNAH9                 5                     1            4\n",
      "67      ARHGAP21                 5                     1            4\n",
      "738       PIK3CA                 6                     3            3\n",
      "614        MYH15                 4                     1            3\n",
      "612         MYH1                 4                     1            3\n",
      "615         MYH4                 4                     1            3\n",
      "833       RICTOR                 1                     4            3\n",
      "759       POLR2A                 4                     1            3\n",
      "824        RC3H2                 1                     4            3\n",
      "75        ARID4B                 4                     1            3\n",
      "712         PCLO                 5                     2            3\n",
      "1205       ZZEF1                 4                     1            3\n",
      "540          LCT                 4                     1            3\n",
      "605        MUC5B                 1                     4            3\n",
      "139      CACNA1G                 4                     1            3\n",
      "278      DYNC1H1                 5                     2            3\n",
      "285      EIF2AK4                 4                     1            3\n",
      "326       FAM47C                 5                     2            3\n",
      "350         FLNB                 4                     1            3\n"
     ]
    },
    {
     "data": {
      "text/plain": [
       "<matplotlib.axes._subplots.AxesSubplot at 0x7fd4457e8950>"
      ]
     },
     "execution_count": 129,
     "metadata": {},
     "output_type": "execute_result"
    },
    {
     "data": {
      "image/png": "[encoded data removed]",
      "text/plain": [
       "<Figure size 2500x1000 with 1 Axes>"
      ]
     },
     "metadata": {},
     "output_type": "display_data"
    }
   ],
   "source": [
    "\n",
    "#Read patiend id info\n",
    "PatientResponses = pd.read_table('data/sample-information.tsv')\n",
    "#Get response type\n",
    "PatientResponses_small = PatientResponses[['Patient_ID', 'Response']].copy()\n",
    "#Parse patient data by response\n",
    "responders = []\n",
    "nonResponders = []\n",
    "for row in PatientResponses_small.itertuples(index=False):\n",
    "    if row[1]=='Non-Responder':\n",
    "        nonResponders.append(patientDf.get(row[0]))\n",
    "    else:\n",
    "        responders.append(patientDf.get(row[0])) \n",
    "\n",
    "#CHECK COUNT OF EACH ENSURE SAME\n",
    "print(len(responders))\n",
    "print(len(nonResponders))\n",
    "\n"
   ]
  },
  {
   "cell_type": "markdown",
   "metadata": {},
   "source": []
  },
  {
   "cell_type": "code",
   "execution_count": null,
   "metadata": {},
   "outputs": [],
   "source": [
    "#Concat databases\n",
    "respondersDf = pd.concat(responders, ignore_index=True)\n",
    "nonRespondersDf = pd.concat(nonResponders, ignore_index=True)\n",
    "responders_count = respondersDf.groupby(\n",
    "    'Hugo_Symbol').size().reset_index(name='Count')\n",
    "non_responders_count = nonRespondersDf.groupby(\n",
    "    'Hugo_Symbol').size().reset_index(name='Count')\n",
    "\n",
    "\n",
    "# Merge the two DataFrames on 'Hugo_Symbol'\n",
    "merged_df = pd.merge(responders_count, non_responders_count,\n",
    "                     on='Hugo_Symbol', suffixes=('_responders', '_non_responders'))\n",
    "\n",
    "contingency_table = merged_df[[\n",
    "    'Count_responders', 'Count_non_responders']].to_numpy()\n",
    "\n",
    "# Perform the Chi-Square test two ensure overall distribution is similar\n",
    "chi2, p_value, _, _ = chi2_contingency(contingency_table)\n",
    "\n",
    "print(f\"Chi-Square statistic: {chi2}\")\n",
    "print(f\"P-value: {p_value}\")\n"
   ]
  },
  {
   "cell_type": "markdown",
   "metadata": {},
   "source": []
  },
  {
   "cell_type": "code",
   "execution_count": null,
   "metadata": {},
   "outputs": [],
   "source": [
    "#Calculate differences between response\n",
    "merged_df['differences'] = merged_df['Count_responders'] - \\\n",
    "    merged_df['Count_non_responders']\n",
    "merged_df['differences'] = merged_df['differences'].abs()\n",
    "\n",
    "#Get average to help determine significantly different values\n",
    "print(merged_df['differences'].mean())\n",
    "#Sort results\n",
    "merged_df.sort_values(by=['differences'], ascending=False, inplace=True)\n",
    "\n",
    "#Top 10 \n",
    "sigDf = merged_df.head(10)\n",
    "#Display\n",
    "sigDf.plot.bar(x='Hugo_Symbol', y='differences', rot=0, figsize=(25, 10), title='Most Enrinched Genes Between Responders and NonResponders',\n",
    "               fontsize=12, xlabel='Gene', ylabel='Frequency Difference', color='blue')\n"
   ]
  },
  {
   "attachments": {},
   "cell_type": "markdown",
   "metadata": {},
   "source": [
    "Explain"
   ]
  },
  {
   "attachments": {},
   "cell_type": "markdown",
   "metadata": {},
   "source": [
    "Create a scatter plot of genes with the number of mutated patients on the x-axis and\n",
    "your results from question 4 on the y-axis."
   ]
  },
  {
   "cell_type": "code",
   "execution_count": null,
   "metadata": {},
   "outputs": [],
   "source": [
    "#Get total counts\n",
    "sigDf['total'] = sigDf['Count_responders'] + sigDf['Count_non_responders']\n",
    "#Scatter Plot\n",
    "sigDf.plot.scatter(x='Hugo_Symbol', y='total', rot=0, figsize=(25, 10), title='Frequency of Enriched Genes',\n",
    "                   fontsize=12, xlabel='Gene', ylabel='Frequency', color='blue')\n",
    "\n",
    "#Much more readable version\n",
    "sigDf.plot.bar(x='Hugo_Symbol', y='total', rot=0, figsize=(25, 10), title='Frequency of Enriched Genes',\n",
    "               fontsize=12, xlabel='Gene', ylabel='Frequency', color='red')\n"
   ]
  },
  {
   "attachments": {},
   "cell_type": "markdown",
   "metadata": {},
   "source": [
    "How many samples are wild-type versus mutant with respect to the most significantly\n",
    "enriched gene from Question 4? Plot the number of nonsynonymous mutations per\n",
    "megabase in the mutant vs. wild-type samples. Is there a significant difference in the\n",
    "number of mutations between the two groups?"
   ]
  },
  {
   "cell_type": "code",
   "execution_count": null,
   "metadata": {},
   "outputs": [
    {
     "name": "stdout",
     "output_type": "stream",
     "text": [
      "KMT2C\n",
      "227.63000000000002\n",
      "75.68\n"
     ]
    },
    {
     "data": {
      "image/png": "[encoded data removed]",
      "text/plain": [
       "<Figure size 640x480 with 1 Axes>"
      ]
     },
     "metadata": {},
     "output_type": "display_data"
    }
   ],
   "source": [
    "#Get significant gene\n",
    "gene = sigDf['Hugo_Symbol'].iloc[0]\n",
    "print(gene)\n",
    "#get Nonsynonymous data, parse by patient id\n",
    "PatientResponses_small = PatientResponses[[\n",
    "    'Patient_ID', 'Nonsynonymous_mutations_per_Mb']].copy()\n",
    "NonsynonymousVals = dict(zip(PatientResponses_small.Patient_ID,\n",
    "                   PatientResponses_small.Nonsynonymous_mutations_per_Mb))\n",
    "#Get sums and patient ids who have gene\n",
    "wildtype = []\n",
    "wildtypeSum = 0\n",
    "mutantSum = 0\n",
    "mutant = []\n",
    "for keys,values in patientDf.items():\n",
    "    if gene in values['Hugo_Symbol'].values:\n",
    "        mutant.append(keys)\n",
    "        mutantSum += NonsynonymousVals.get(keys)\n",
    "    else:\n",
    "        wildtype.append(keys)\n",
    "        wildtypeSum += NonsynonymousVals.get(keys)\n",
    "    \n",
    "#Very interesting\n",
    "print(wildtypeSum)\n",
    "print(mutantSum)\n",
    "#Plot results\n",
    "curDf = pd.DataFrame({'type': ['WildType', 'Mutant'], 'count': [wildtypeSum,mutantSum]})\n",
    "ax = curDf.plot.bar(x='type', y='count', rot=0, title=f'Nonsynonymous Mutations per Mb for {gene}', ylabel='Total', xlabel='Classification', fontsize=12, color='orange')\n",
    "\n"
   ]
  },
  {
   "attachments": {},
   "cell_type": "markdown",
   "metadata": {},
   "source": [
    "Is there a significant difference in the\n",
    "number of mutations between the two groups?"
   ]
  },
  {
   "attachments": {},
   "cell_type": "markdown",
   "metadata": {},
   "source": [
    "## Conclusion"
   ]
  }
 ],
 "metadata": {
  "kernelspec": {
   "display_name": "Python 3",
   "language": "python",
   "name": "python3"
  },
  "language_info": {
   "codemirror_mode": {
    "name": "ipython",
    "version": 3
   },
   "file_extension": ".py",
   "mimetype": "text/x-python",
   "name": "python",
   "nbconvert_exporter": "python",
   "pygments_lexer": "ipython3",
   "version": "3.7.4"
  },
  "orig_nbformat": 4
 },
 "nbformat": 4,
 "nbformat_minor": 2
}
